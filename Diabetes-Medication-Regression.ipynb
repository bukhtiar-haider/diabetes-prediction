{
  "nbformat": 4,
  "nbformat_minor": 0,
  "metadata": {
    "colab": {
      "provenance": [],
      "include_colab_link": true
    },
    "kernelspec": {
      "name": "python3",
      "display_name": "Python 3"
    },
    "language_info": {
      "name": "python"
    }
  },
  "cells": [
    {
      "cell_type": "markdown",
      "metadata": {
        "id": "view-in-github",
        "colab_type": "text"
      },
      "source": [
        "<a href=\"https://colab.research.google.com/github/bukhtiar-haider/diabetes-prediction/blob/main/Diabetes-Medication-Regression.ipynb\" target=\"_parent\"><img src=\"https://colab.research.google.com/assets/colab-badge.svg\" alt=\"Open In Colab\"/></a>"
      ]
    },
    {
      "cell_type": "code",
      "execution_count": null,
      "metadata": {
        "id": "isO6OO7TbQ-k"
      },
      "outputs": [],
      "source": [
        "%matplotlib inline\n",
        "import pandas as pd\n",
        "import seaborn as sns\n",
        "import numpy as np\n",
        "import matplotlib.pyplot as plt\n",
        "from google.colab import files\n",
        "from collections import Counter\n",
        "from sklearn.impute import KNNImputer as KNN\n",
        "from sklearn.tree import DecisionTreeRegressor\n",
        "from imblearn.over_sampling import SMOTE\n",
        "from sklearn.metrics import r2_score, mean_squared_error\n",
        "from sklearn.model_selection import GridSearchCV, cross_validate\n",
        "from sklearn.linear_model import LogisticRegression, LinearRegression, SGDRegressor\n",
        "from sklearn.preprocessing import StandardScaler\n",
        "from sklearn.model_selection import train_test_split\n",
        "from sklearn.neighbors import  KNeighborsClassifier\n",
        "from sklearn.neural_network import MLPRegressor\n",
        "from sklearn.base import BaseEstimator, TransformerMixin\n",
        "from sklearn.ensemble import RandomForestRegressor, AdaBoostRegressor, GradientBoostingRegressor"
      ]
    },
    {
      "cell_type": "code",
      "source": [
        "# Load the data\n",
        "df = pd.read_csv('P3_Data.csv')\n",
        "df_test = pd.read_csv('P3_Test.csv')\n",
        "df.head() # Just taking a quick look at the data"
      ],
      "metadata": {
        "colab": {
          "base_uri": "https://localhost:8080/",
          "height": 206
        },
        "id": "J0Cc9blVq_KX",
        "outputId": "7efb0635-e38f-405e-8ebd-514a5aef589b"
      },
      "execution_count": null,
      "outputs": [
        {
          "output_type": "execute_result",
          "data": {
            "text/plain": [
              "        F1      F2     F3     F4      F5      F6       F7     F8    F9  F10  \\\n",
              "0   193.83      UK  49.74  14.16  213.02  343.06  1753.44  -6.03  6.28    8   \n",
              "1  1495.47  Europe  58.02   5.88  137.80  270.48  1665.33  -0.52  9.72   14   \n",
              "2  1121.31     USA  68.85   9.18  209.54  295.26  3208.65  -4.00  3.86    6   \n",
              "3  -305.49     USA  49.29   8.73  171.83  266.06  1704.18  -2.41  4.16    6   \n",
              "4  1457.07      UK  64.98   7.92   74.10  260.22  1922.34 -11.97  5.00   18   \n",
              "\n",
              "        F11     F12    F13    F14  F15    F16   Target  \n",
              "0  -5145.92     Low  11.35   1.01    1  68.92    51.16  \n",
              "1  11145.82    High  10.30   0.30    5  89.30     0.00  \n",
              "2  31859.00  Medium   7.98  13.05    4 -11.80  2808.51  \n",
              "3   8075.76     Low  16.52   2.01    5  41.40  1092.21  \n",
              "4   9886.72    High   5.37   0.01    1  62.74     0.00  "
            ],
            "text/html": [
              "\n",
              "  <div id=\"df-95dcd601-69d2-4d19-8819-3673e5392fc6\">\n",
              "    <div class=\"colab-df-container\">\n",
              "      <div>\n",
              "<style scoped>\n",
              "    .dataframe tbody tr th:only-of-type {\n",
              "        vertical-align: middle;\n",
              "    }\n",
              "\n",
              "    .dataframe tbody tr th {\n",
              "        vertical-align: top;\n",
              "    }\n",
              "\n",
              "    .dataframe thead th {\n",
              "        text-align: right;\n",
              "    }\n",
              "</style>\n",
              "<table border=\"1\" class=\"dataframe\">\n",
              "  <thead>\n",
              "    <tr style=\"text-align: right;\">\n",
              "      <th></th>\n",
              "      <th>F1</th>\n",
              "      <th>F2</th>\n",
              "      <th>F3</th>\n",
              "      <th>F4</th>\n",
              "      <th>F5</th>\n",
              "      <th>F6</th>\n",
              "      <th>F7</th>\n",
              "      <th>F8</th>\n",
              "      <th>F9</th>\n",
              "      <th>F10</th>\n",
              "      <th>F11</th>\n",
              "      <th>F12</th>\n",
              "      <th>F13</th>\n",
              "      <th>F14</th>\n",
              "      <th>F15</th>\n",
              "      <th>F16</th>\n",
              "      <th>Target</th>\n",
              "    </tr>\n",
              "  </thead>\n",
              "  <tbody>\n",
              "    <tr>\n",
              "      <th>0</th>\n",
              "      <td>193.83</td>\n",
              "      <td>UK</td>\n",
              "      <td>49.74</td>\n",
              "      <td>14.16</td>\n",
              "      <td>213.02</td>\n",
              "      <td>343.06</td>\n",
              "      <td>1753.44</td>\n",
              "      <td>-6.03</td>\n",
              "      <td>6.28</td>\n",
              "      <td>8</td>\n",
              "      <td>-5145.92</td>\n",
              "      <td>Low</td>\n",
              "      <td>11.35</td>\n",
              "      <td>1.01</td>\n",
              "      <td>1</td>\n",
              "      <td>68.92</td>\n",
              "      <td>51.16</td>\n",
              "    </tr>\n",
              "    <tr>\n",
              "      <th>1</th>\n",
              "      <td>1495.47</td>\n",
              "      <td>Europe</td>\n",
              "      <td>58.02</td>\n",
              "      <td>5.88</td>\n",
              "      <td>137.80</td>\n",
              "      <td>270.48</td>\n",
              "      <td>1665.33</td>\n",
              "      <td>-0.52</td>\n",
              "      <td>9.72</td>\n",
              "      <td>14</td>\n",
              "      <td>11145.82</td>\n",
              "      <td>High</td>\n",
              "      <td>10.30</td>\n",
              "      <td>0.30</td>\n",
              "      <td>5</td>\n",
              "      <td>89.30</td>\n",
              "      <td>0.00</td>\n",
              "    </tr>\n",
              "    <tr>\n",
              "      <th>2</th>\n",
              "      <td>1121.31</td>\n",
              "      <td>USA</td>\n",
              "      <td>68.85</td>\n",
              "      <td>9.18</td>\n",
              "      <td>209.54</td>\n",
              "      <td>295.26</td>\n",
              "      <td>3208.65</td>\n",
              "      <td>-4.00</td>\n",
              "      <td>3.86</td>\n",
              "      <td>6</td>\n",
              "      <td>31859.00</td>\n",
              "      <td>Medium</td>\n",
              "      <td>7.98</td>\n",
              "      <td>13.05</td>\n",
              "      <td>4</td>\n",
              "      <td>-11.80</td>\n",
              "      <td>2808.51</td>\n",
              "    </tr>\n",
              "    <tr>\n",
              "      <th>3</th>\n",
              "      <td>-305.49</td>\n",
              "      <td>USA</td>\n",
              "      <td>49.29</td>\n",
              "      <td>8.73</td>\n",
              "      <td>171.83</td>\n",
              "      <td>266.06</td>\n",
              "      <td>1704.18</td>\n",
              "      <td>-2.41</td>\n",
              "      <td>4.16</td>\n",
              "      <td>6</td>\n",
              "      <td>8075.76</td>\n",
              "      <td>Low</td>\n",
              "      <td>16.52</td>\n",
              "      <td>2.01</td>\n",
              "      <td>5</td>\n",
              "      <td>41.40</td>\n",
              "      <td>1092.21</td>\n",
              "    </tr>\n",
              "    <tr>\n",
              "      <th>4</th>\n",
              "      <td>1457.07</td>\n",
              "      <td>UK</td>\n",
              "      <td>64.98</td>\n",
              "      <td>7.92</td>\n",
              "      <td>74.10</td>\n",
              "      <td>260.22</td>\n",
              "      <td>1922.34</td>\n",
              "      <td>-11.97</td>\n",
              "      <td>5.00</td>\n",
              "      <td>18</td>\n",
              "      <td>9886.72</td>\n",
              "      <td>High</td>\n",
              "      <td>5.37</td>\n",
              "      <td>0.01</td>\n",
              "      <td>1</td>\n",
              "      <td>62.74</td>\n",
              "      <td>0.00</td>\n",
              "    </tr>\n",
              "  </tbody>\n",
              "</table>\n",
              "</div>\n",
              "      <button class=\"colab-df-convert\" onclick=\"convertToInteractive('df-95dcd601-69d2-4d19-8819-3673e5392fc6')\"\n",
              "              title=\"Convert this dataframe to an interactive table.\"\n",
              "              style=\"display:none;\">\n",
              "        \n",
              "  <svg xmlns=\"http://www.w3.org/2000/svg\" height=\"24px\"viewBox=\"0 0 24 24\"\n",
              "       width=\"24px\">\n",
              "    <path d=\"M0 0h24v24H0V0z\" fill=\"none\"/>\n",
              "    <path d=\"M18.56 5.44l.94 2.06.94-2.06 2.06-.94-2.06-.94-.94-2.06-.94 2.06-2.06.94zm-11 1L8.5 8.5l.94-2.06 2.06-.94-2.06-.94L8.5 2.5l-.94 2.06-2.06.94zm10 10l.94 2.06.94-2.06 2.06-.94-2.06-.94-.94-2.06-.94 2.06-2.06.94z\"/><path d=\"M17.41 7.96l-1.37-1.37c-.4-.4-.92-.59-1.43-.59-.52 0-1.04.2-1.43.59L10.3 9.45l-7.72 7.72c-.78.78-.78 2.05 0 2.83L4 21.41c.39.39.9.59 1.41.59.51 0 1.02-.2 1.41-.59l7.78-7.78 2.81-2.81c.8-.78.8-2.07 0-2.86zM5.41 20L4 18.59l7.72-7.72 1.47 1.35L5.41 20z\"/>\n",
              "  </svg>\n",
              "      </button>\n",
              "      \n",
              "  <style>\n",
              "    .colab-df-container {\n",
              "      display:flex;\n",
              "      flex-wrap:wrap;\n",
              "      gap: 12px;\n",
              "    }\n",
              "\n",
              "    .colab-df-convert {\n",
              "      background-color: #E8F0FE;\n",
              "      border: none;\n",
              "      border-radius: 50%;\n",
              "      cursor: pointer;\n",
              "      display: none;\n",
              "      fill: #1967D2;\n",
              "      height: 32px;\n",
              "      padding: 0 0 0 0;\n",
              "      width: 32px;\n",
              "    }\n",
              "\n",
              "    .colab-df-convert:hover {\n",
              "      background-color: #E2EBFA;\n",
              "      box-shadow: 0px 1px 2px rgba(60, 64, 67, 0.3), 0px 1px 3px 1px rgba(60, 64, 67, 0.15);\n",
              "      fill: #174EA6;\n",
              "    }\n",
              "\n",
              "    [theme=dark] .colab-df-convert {\n",
              "      background-color: #3B4455;\n",
              "      fill: #D2E3FC;\n",
              "    }\n",
              "\n",
              "    [theme=dark] .colab-df-convert:hover {\n",
              "      background-color: #434B5C;\n",
              "      box-shadow: 0px 1px 3px 1px rgba(0, 0, 0, 0.15);\n",
              "      filter: drop-shadow(0px 1px 2px rgba(0, 0, 0, 0.3));\n",
              "      fill: #FFFFFF;\n",
              "    }\n",
              "  </style>\n",
              "\n",
              "      <script>\n",
              "        const buttonEl =\n",
              "          document.querySelector('#df-95dcd601-69d2-4d19-8819-3673e5392fc6 button.colab-df-convert');\n",
              "        buttonEl.style.display =\n",
              "          google.colab.kernel.accessAllowed ? 'block' : 'none';\n",
              "\n",
              "        async function convertToInteractive(key) {\n",
              "          const element = document.querySelector('#df-95dcd601-69d2-4d19-8819-3673e5392fc6');\n",
              "          const dataTable =\n",
              "            await google.colab.kernel.invokeFunction('convertToInteractive',\n",
              "                                                     [key], {});\n",
              "          if (!dataTable) return;\n",
              "\n",
              "          const docLinkHtml = 'Like what you see? Visit the ' +\n",
              "            '<a target=\"_blank\" href=https://colab.research.google.com/notebooks/data_table.ipynb>data table notebook</a>'\n",
              "            + ' to learn more about interactive tables.';\n",
              "          element.innerHTML = '';\n",
              "          dataTable['output_type'] = 'display_data';\n",
              "          await google.colab.output.renderOutput(dataTable, element);\n",
              "          const docLink = document.createElement('div');\n",
              "          docLink.innerHTML = docLinkHtml;\n",
              "          element.appendChild(docLink);\n",
              "        }\n",
              "      </script>\n",
              "    </div>\n",
              "  </div>\n",
              "  "
            ]
          },
          "metadata": {},
          "execution_count": 2
        }
      ]
    },
    {
      "cell_type": "code",
      "source": [
        "df_test.head()"
      ],
      "metadata": {
        "colab": {
          "base_uri": "https://localhost:8080/",
          "height": 206
        },
        "id": "ZmkbhBLLq6Dp",
        "outputId": "cd2d56c8-3331-42dc-d6da-95726254a00e"
      },
      "execution_count": null,
      "outputs": [
        {
          "output_type": "execute_result",
          "data": {
            "text/plain": [
              "        F1      F2     F3     F4      F5      F6       F7    F8     F9  F10  \\\n",
              "0   596.16    Rest  72.24   6.00  154.48  184.18   226.65 -8.21  18.46   10   \n",
              "1  1851.57  Europe  63.09  10.47  200.93  183.48  1101.51 -7.91   3.76    4   \n",
              "2  -945.60     USA  71.22   8.25  190.35  243.96   924.93 -6.35   2.48    6   \n",
              "3  1153.38  Europe  62.52   7.41  165.21  245.64  1017.09 -5.84   6.58   14   \n",
              "4  -261.63      UK  60.87  10.14  201.96  216.28  1350.96 -2.75   4.02    6   \n",
              "\n",
              "        F11        F12    F13     F14  F15     F16  Target  \n",
              "0   6547.48  Very high   9.24    0.69    3   45.06     NaN  \n",
              "1   -983.62     Medium   8.20   17.90    5   88.64     NaN  \n",
              "2  -2366.10  Very high  11.10  329.72    2  -41.36     NaN  \n",
              "3   -503.06       High   7.53    0.00    2  -91.60     NaN  \n",
              "4  19521.62       High   8.99  360.26    4  154.32     NaN  "
            ],
            "text/html": [
              "\n",
              "  <div id=\"df-b46852c2-95f2-4adc-822d-54fba9aa79c1\">\n",
              "    <div class=\"colab-df-container\">\n",
              "      <div>\n",
              "<style scoped>\n",
              "    .dataframe tbody tr th:only-of-type {\n",
              "        vertical-align: middle;\n",
              "    }\n",
              "\n",
              "    .dataframe tbody tr th {\n",
              "        vertical-align: top;\n",
              "    }\n",
              "\n",
              "    .dataframe thead th {\n",
              "        text-align: right;\n",
              "    }\n",
              "</style>\n",
              "<table border=\"1\" class=\"dataframe\">\n",
              "  <thead>\n",
              "    <tr style=\"text-align: right;\">\n",
              "      <th></th>\n",
              "      <th>F1</th>\n",
              "      <th>F2</th>\n",
              "      <th>F3</th>\n",
              "      <th>F4</th>\n",
              "      <th>F5</th>\n",
              "      <th>F6</th>\n",
              "      <th>F7</th>\n",
              "      <th>F8</th>\n",
              "      <th>F9</th>\n",
              "      <th>F10</th>\n",
              "      <th>F11</th>\n",
              "      <th>F12</th>\n",
              "      <th>F13</th>\n",
              "      <th>F14</th>\n",
              "      <th>F15</th>\n",
              "      <th>F16</th>\n",
              "      <th>Target</th>\n",
              "    </tr>\n",
              "  </thead>\n",
              "  <tbody>\n",
              "    <tr>\n",
              "      <th>0</th>\n",
              "      <td>596.16</td>\n",
              "      <td>Rest</td>\n",
              "      <td>72.24</td>\n",
              "      <td>6.00</td>\n",
              "      <td>154.48</td>\n",
              "      <td>184.18</td>\n",
              "      <td>226.65</td>\n",
              "      <td>-8.21</td>\n",
              "      <td>18.46</td>\n",
              "      <td>10</td>\n",
              "      <td>6547.48</td>\n",
              "      <td>Very high</td>\n",
              "      <td>9.24</td>\n",
              "      <td>0.69</td>\n",
              "      <td>3</td>\n",
              "      <td>45.06</td>\n",
              "      <td>NaN</td>\n",
              "    </tr>\n",
              "    <tr>\n",
              "      <th>1</th>\n",
              "      <td>1851.57</td>\n",
              "      <td>Europe</td>\n",
              "      <td>63.09</td>\n",
              "      <td>10.47</td>\n",
              "      <td>200.93</td>\n",
              "      <td>183.48</td>\n",
              "      <td>1101.51</td>\n",
              "      <td>-7.91</td>\n",
              "      <td>3.76</td>\n",
              "      <td>4</td>\n",
              "      <td>-983.62</td>\n",
              "      <td>Medium</td>\n",
              "      <td>8.20</td>\n",
              "      <td>17.90</td>\n",
              "      <td>5</td>\n",
              "      <td>88.64</td>\n",
              "      <td>NaN</td>\n",
              "    </tr>\n",
              "    <tr>\n",
              "      <th>2</th>\n",
              "      <td>-945.60</td>\n",
              "      <td>USA</td>\n",
              "      <td>71.22</td>\n",
              "      <td>8.25</td>\n",
              "      <td>190.35</td>\n",
              "      <td>243.96</td>\n",
              "      <td>924.93</td>\n",
              "      <td>-6.35</td>\n",
              "      <td>2.48</td>\n",
              "      <td>6</td>\n",
              "      <td>-2366.10</td>\n",
              "      <td>Very high</td>\n",
              "      <td>11.10</td>\n",
              "      <td>329.72</td>\n",
              "      <td>2</td>\n",
              "      <td>-41.36</td>\n",
              "      <td>NaN</td>\n",
              "    </tr>\n",
              "    <tr>\n",
              "      <th>3</th>\n",
              "      <td>1153.38</td>\n",
              "      <td>Europe</td>\n",
              "      <td>62.52</td>\n",
              "      <td>7.41</td>\n",
              "      <td>165.21</td>\n",
              "      <td>245.64</td>\n",
              "      <td>1017.09</td>\n",
              "      <td>-5.84</td>\n",
              "      <td>6.58</td>\n",
              "      <td>14</td>\n",
              "      <td>-503.06</td>\n",
              "      <td>High</td>\n",
              "      <td>7.53</td>\n",
              "      <td>0.00</td>\n",
              "      <td>2</td>\n",
              "      <td>-91.60</td>\n",
              "      <td>NaN</td>\n",
              "    </tr>\n",
              "    <tr>\n",
              "      <th>4</th>\n",
              "      <td>-261.63</td>\n",
              "      <td>UK</td>\n",
              "      <td>60.87</td>\n",
              "      <td>10.14</td>\n",
              "      <td>201.96</td>\n",
              "      <td>216.28</td>\n",
              "      <td>1350.96</td>\n",
              "      <td>-2.75</td>\n",
              "      <td>4.02</td>\n",
              "      <td>6</td>\n",
              "      <td>19521.62</td>\n",
              "      <td>High</td>\n",
              "      <td>8.99</td>\n",
              "      <td>360.26</td>\n",
              "      <td>4</td>\n",
              "      <td>154.32</td>\n",
              "      <td>NaN</td>\n",
              "    </tr>\n",
              "  </tbody>\n",
              "</table>\n",
              "</div>\n",
              "      <button class=\"colab-df-convert\" onclick=\"convertToInteractive('df-b46852c2-95f2-4adc-822d-54fba9aa79c1')\"\n",
              "              title=\"Convert this dataframe to an interactive table.\"\n",
              "              style=\"display:none;\">\n",
              "        \n",
              "  <svg xmlns=\"http://www.w3.org/2000/svg\" height=\"24px\"viewBox=\"0 0 24 24\"\n",
              "       width=\"24px\">\n",
              "    <path d=\"M0 0h24v24H0V0z\" fill=\"none\"/>\n",
              "    <path d=\"M18.56 5.44l.94 2.06.94-2.06 2.06-.94-2.06-.94-.94-2.06-.94 2.06-2.06.94zm-11 1L8.5 8.5l.94-2.06 2.06-.94-2.06-.94L8.5 2.5l-.94 2.06-2.06.94zm10 10l.94 2.06.94-2.06 2.06-.94-2.06-.94-.94-2.06-.94 2.06-2.06.94z\"/><path d=\"M17.41 7.96l-1.37-1.37c-.4-.4-.92-.59-1.43-.59-.52 0-1.04.2-1.43.59L10.3 9.45l-7.72 7.72c-.78.78-.78 2.05 0 2.83L4 21.41c.39.39.9.59 1.41.59.51 0 1.02-.2 1.41-.59l7.78-7.78 2.81-2.81c.8-.78.8-2.07 0-2.86zM5.41 20L4 18.59l7.72-7.72 1.47 1.35L5.41 20z\"/>\n",
              "  </svg>\n",
              "      </button>\n",
              "      \n",
              "  <style>\n",
              "    .colab-df-container {\n",
              "      display:flex;\n",
              "      flex-wrap:wrap;\n",
              "      gap: 12px;\n",
              "    }\n",
              "\n",
              "    .colab-df-convert {\n",
              "      background-color: #E8F0FE;\n",
              "      border: none;\n",
              "      border-radius: 50%;\n",
              "      cursor: pointer;\n",
              "      display: none;\n",
              "      fill: #1967D2;\n",
              "      height: 32px;\n",
              "      padding: 0 0 0 0;\n",
              "      width: 32px;\n",
              "    }\n",
              "\n",
              "    .colab-df-convert:hover {\n",
              "      background-color: #E2EBFA;\n",
              "      box-shadow: 0px 1px 2px rgba(60, 64, 67, 0.3), 0px 1px 3px 1px rgba(60, 64, 67, 0.15);\n",
              "      fill: #174EA6;\n",
              "    }\n",
              "\n",
              "    [theme=dark] .colab-df-convert {\n",
              "      background-color: #3B4455;\n",
              "      fill: #D2E3FC;\n",
              "    }\n",
              "\n",
              "    [theme=dark] .colab-df-convert:hover {\n",
              "      background-color: #434B5C;\n",
              "      box-shadow: 0px 1px 3px 1px rgba(0, 0, 0, 0.15);\n",
              "      filter: drop-shadow(0px 1px 2px rgba(0, 0, 0, 0.3));\n",
              "      fill: #FFFFFF;\n",
              "    }\n",
              "  </style>\n",
              "\n",
              "      <script>\n",
              "        const buttonEl =\n",
              "          document.querySelector('#df-b46852c2-95f2-4adc-822d-54fba9aa79c1 button.colab-df-convert');\n",
              "        buttonEl.style.display =\n",
              "          google.colab.kernel.accessAllowed ? 'block' : 'none';\n",
              "\n",
              "        async function convertToInteractive(key) {\n",
              "          const element = document.querySelector('#df-b46852c2-95f2-4adc-822d-54fba9aa79c1');\n",
              "          const dataTable =\n",
              "            await google.colab.kernel.invokeFunction('convertToInteractive',\n",
              "                                                     [key], {});\n",
              "          if (!dataTable) return;\n",
              "\n",
              "          const docLinkHtml = 'Like what you see? Visit the ' +\n",
              "            '<a target=\"_blank\" href=https://colab.research.google.com/notebooks/data_table.ipynb>data table notebook</a>'\n",
              "            + ' to learn more about interactive tables.';\n",
              "          element.innerHTML = '';\n",
              "          dataTable['output_type'] = 'display_data';\n",
              "          await google.colab.output.renderOutput(dataTable, element);\n",
              "          const docLink = document.createElement('div');\n",
              "          docLink.innerHTML = docLinkHtml;\n",
              "          element.appendChild(docLink);\n",
              "        }\n",
              "      </script>\n",
              "    </div>\n",
              "  </div>\n",
              "  "
            ]
          },
          "metadata": {},
          "execution_count": 3
        }
      ]
    },
    {
      "cell_type": "code",
      "source": [
        "print(df.info())"
      ],
      "metadata": {
        "colab": {
          "base_uri": "https://localhost:8080/"
        },
        "id": "SqEBIuGrrGAK",
        "outputId": "2e4e46da-5d8f-4721-f58a-2e375fd7583d"
      },
      "execution_count": null,
      "outputs": [
        {
          "output_type": "stream",
          "name": "stdout",
          "text": [
            "<class 'pandas.core.frame.DataFrame'>\n",
            "RangeIndex: 1500 entries, 0 to 1499\n",
            "Data columns (total 17 columns):\n",
            " #   Column  Non-Null Count  Dtype  \n",
            "---  ------  --------------  -----  \n",
            " 0   F1      1500 non-null   float64\n",
            " 1   F2      1500 non-null   object \n",
            " 2   F3      1500 non-null   float64\n",
            " 3   F4      1500 non-null   float64\n",
            " 4   F5      1500 non-null   float64\n",
            " 5   F6      1500 non-null   float64\n",
            " 6   F7      1500 non-null   float64\n",
            " 7   F8      1500 non-null   float64\n",
            " 8   F9      1500 non-null   float64\n",
            " 9   F10     1500 non-null   int64  \n",
            " 10  F11     1500 non-null   float64\n",
            " 11  F12     1500 non-null   object \n",
            " 12  F13     1500 non-null   float64\n",
            " 13  F14     1500 non-null   float64\n",
            " 14  F15     1500 non-null   int64  \n",
            " 15  F16     1500 non-null   float64\n",
            " 16  Target  1500 non-null   float64\n",
            "dtypes: float64(13), int64(2), object(2)\n",
            "memory usage: 199.3+ KB\n",
            "None\n"
          ]
        }
      ]
    },
    {
      "cell_type": "code",
      "source": [
        "lis = []\n",
        "for i in range(0, df.shape[1]):\n",
        "     \n",
        "    if(df.iloc[:,i].dtypes == 'object'):\n",
        "        df.iloc[:,i] = pd.Categorical(df.iloc[:,i])\n",
        "        #print(marketing_train[[i]])\n",
        "        df.iloc[:,i] = df.iloc[:,i].cat.codes \n",
        "        df.iloc[:,i] = df.iloc[:,i].astype('object')\n",
        "         \n",
        "        lis.append(df.columns[i])\n",
        "\n",
        "lis2 = []\n",
        "for i in range(0, df_test.shape[1]):\n",
        "     \n",
        "    if(df_test.iloc[:,i].dtypes == 'object'):\n",
        "        df_test.iloc[:,i] = pd.Categorical(df_test.iloc[:,i])\n",
        "        #print(marketing_train[[i]])\n",
        "        df_test.iloc[:,i] = df_test.iloc[:,i].cat.codes \n",
        "        df_test.iloc[:,i] = df_test.iloc[:,i].astype('object')\n",
        "         \n",
        "        lis2.append(df_test.columns[i])"
      ],
      "metadata": {
        "id": "0oxWIiE-r7km"
      },
      "execution_count": null,
      "outputs": []
    },
    {
      "cell_type": "code",
      "source": [
        "class OneHotEncoderCategoricalFeatures(BaseEstimator, TransformerMixin):\n",
        "    def __init__(self, cat_features):\n",
        "        self.cat_features = cat_features\n",
        "    \n",
        "    def fit(self, X, y=None):\n",
        "        return self\n",
        "    \n",
        "    def transform(self, X):\n",
        "        return pd.get_dummies(X, columns=self.cat_features)"
      ],
      "metadata": {
        "id": "SfIeolH86QAY"
      },
      "execution_count": null,
      "outputs": []
    },
    {
      "cell_type": "code",
      "source": [
        "cat_features = ['F2', 'F12']\n",
        "\n",
        "encoder = OneHotEncoderCategoricalFeatures(cat_features)\n",
        "df = encoder.transform(df)"
      ],
      "metadata": {
        "id": "MDBpPy-C6UF8"
      },
      "execution_count": null,
      "outputs": []
    },
    {
      "cell_type": "code",
      "source": [
        "df_test = encoder.transform(df_test)\n",
        "df_test.info()"
      ],
      "metadata": {
        "colab": {
          "base_uri": "https://localhost:8080/"
        },
        "id": "fuTtb2UJ6qOL",
        "outputId": "f7f4427e-da8a-4bf6-a123-47aeccc2d45a"
      },
      "execution_count": null,
      "outputs": [
        {
          "output_type": "stream",
          "name": "stdout",
          "text": [
            "<class 'pandas.core.frame.DataFrame'>\n",
            "RangeIndex: 1500 entries, 0 to 1499\n",
            "Data columns (total 24 columns):\n",
            " #   Column  Non-Null Count  Dtype  \n",
            "---  ------  --------------  -----  \n",
            " 0   F1      1500 non-null   float64\n",
            " 1   F3      1500 non-null   float64\n",
            " 2   F4      1500 non-null   float64\n",
            " 3   F5      1500 non-null   float64\n",
            " 4   F6      1500 non-null   float64\n",
            " 5   F7      1500 non-null   float64\n",
            " 6   F8      1500 non-null   float64\n",
            " 7   F9      1500 non-null   float64\n",
            " 8   F10     1500 non-null   int64  \n",
            " 9   F11     1500 non-null   float64\n",
            " 10  F13     1500 non-null   float64\n",
            " 11  F14     1500 non-null   float64\n",
            " 12  F15     1500 non-null   int64  \n",
            " 13  F16     1500 non-null   float64\n",
            " 14  Target  0 non-null      float64\n",
            " 15  F2_0    1500 non-null   uint8  \n",
            " 16  F2_1    1500 non-null   uint8  \n",
            " 17  F2_2    1500 non-null   uint8  \n",
            " 18  F2_3    1500 non-null   uint8  \n",
            " 19  F12_0   1500 non-null   uint8  \n",
            " 20  F12_1   1500 non-null   uint8  \n",
            " 21  F12_2   1500 non-null   uint8  \n",
            " 22  F12_3   1500 non-null   uint8  \n",
            " 23  F12_4   1500 non-null   uint8  \n",
            "dtypes: float64(13), int64(2), uint8(9)\n",
            "memory usage: 189.1 KB\n"
          ]
        }
      ]
    },
    {
      "cell_type": "code",
      "source": [
        "df_nan_count = df.isna().sum().sum()\n",
        "print(\"NaN count in Training DF: \", df_nan_count)\n",
        "\n",
        "df_nan_count = df_test.isna().sum().sum()\n",
        "print(\"NaN count in Holdout DF: \", df_nan_count)\n",
        "#1500 NaN from Target column being empty"
      ],
      "metadata": {
        "colab": {
          "base_uri": "https://localhost:8080/"
        },
        "id": "p5mjHSOWsWNz",
        "outputId": "e9ffbf76-f32d-4322-cdd2-20b594d9bb15"
      },
      "execution_count": null,
      "outputs": [
        {
          "output_type": "stream",
          "name": "stdout",
          "text": [
            "NaN count in Training DF:  0\n",
            "NaN count in Holdout DF:  1500\n"
          ]
        }
      ]
    },
    {
      "cell_type": "code",
      "source": [
        "conditions = [\n",
        "    (df['Target'] == 0),\n",
        "    (df['Target'] != 0)\n",
        "]\n",
        "values = [False, True]\n",
        "y_ = np.select(conditions, values)"
      ],
      "metadata": {
        "id": "jFHTx82H7tWC"
      },
      "execution_count": null,
      "outputs": []
    },
    {
      "cell_type": "code",
      "source": [
        "y = df['Target']\n",
        "X = df.drop('Target', axis = 1)\n",
        "X_train, X_test, y_train, y_test = train_test_split(X, y, stratify = y_, random_state=0)\n",
        "scaler_x = StandardScaler()\n",
        "X_holdout = df_test.drop('Target', axis = 1)\n",
        "X_train = scaler_x.fit_transform(X_train)\n",
        "X_test = scaler_x.fit_transform(X_test)\n",
        "X_holdout = scaler_x.transform(X_holdout)"
      ],
      "metadata": {
        "id": "MnI1I1jPtZ-o"
      },
      "execution_count": null,
      "outputs": []
    },
    {
      "cell_type": "code",
      "source": [
        "a = Counter(y_test == 0)\n",
        "print(a[1]/a[0])\n",
        "b = Counter(y_train == 0)\n",
        "print(b[1]/b[0])"
      ],
      "metadata": {
        "colab": {
          "base_uri": "https://localhost:8080/"
        },
        "id": "babRZfpa77jB",
        "outputId": "cdc7d5c9-b342-4f27-dcd7-9525fed54619"
      },
      "execution_count": null,
      "outputs": [
        {
          "output_type": "stream",
          "name": "stdout",
          "text": [
            "0.42585551330798477\n",
            "0.4240506329113924\n"
          ]
        }
      ]
    },
    {
      "cell_type": "code",
      "source": [
        "model = LinearRegression()\n",
        "params = {'fit_intercept':[True, False], 'copy_X':[True,False]}\n",
        "clf = GridSearchCV(model, params)\n",
        "clf.fit(X_train, y_train)\n",
        "clf.cv_results_.keys()"
      ],
      "metadata": {
        "colab": {
          "base_uri": "https://localhost:8080/"
        },
        "id": "U7b5SWfKtBSu",
        "outputId": "8cade9dd-3fd6-466c-d541-5128cd62bbdb"
      },
      "execution_count": null,
      "outputs": [
        {
          "output_type": "execute_result",
          "data": {
            "text/plain": [
              "dict_keys(['mean_fit_time', 'std_fit_time', 'mean_score_time', 'std_score_time', 'param_copy_X', 'param_fit_intercept', 'params', 'split0_test_score', 'split1_test_score', 'split2_test_score', 'split3_test_score', 'split4_test_score', 'mean_test_score', 'std_test_score', 'rank_test_score'])"
            ]
          },
          "metadata": {},
          "execution_count": 21
        }
      ]
    },
    {
      "cell_type": "code",
      "source": [
        "clf.cv_results_['mean_test_score']\n",
        "#0.87454038"
      ],
      "metadata": {
        "colab": {
          "base_uri": "https://localhost:8080/"
        },
        "id": "p-CmPxc8vNgp",
        "outputId": "7bf810f2-961c-47ee-998d-670efd5c2b49"
      },
      "execution_count": null,
      "outputs": [
        {
          "output_type": "execute_result",
          "data": {
            "text/plain": [
              "array([0.77882197, 0.03170644, 0.77882197, 0.03170644])"
            ]
          },
          "metadata": {},
          "execution_count": 22
        }
      ]
    },
    {
      "cell_type": "code",
      "source": [
        "clf.cv_results_['std_test_score']"
      ],
      "metadata": {
        "colab": {
          "base_uri": "https://localhost:8080/"
        },
        "id": "gmlqz7eqvPFF",
        "outputId": "15e3135f-540d-4012-80ce-cafc4b497620"
      },
      "execution_count": null,
      "outputs": [
        {
          "output_type": "execute_result",
          "data": {
            "text/plain": [
              "array([0.03116439, 0.09378709, 0.03116439, 0.09378709])"
            ]
          },
          "metadata": {},
          "execution_count": 23
        }
      ]
    },
    {
      "cell_type": "code",
      "source": [
        "results = []\n",
        "names = []\n",
        "testing = []"
      ],
      "metadata": {
        "id": "4WBCEaAUwXPP"
      },
      "execution_count": null,
      "outputs": []
    },
    {
      "cell_type": "markdown",
      "source": [
        "**LINEAR REGRESSION**"
      ],
      "metadata": {
        "id": "CyEs763-x_2F"
      }
    },
    {
      "cell_type": "code",
      "source": [
        "lr = LinearRegression()\n",
        "\n",
        "cv_results = cross_validate(lr, X_train, y_train, scoring=['neg_root_mean_squared_error', 'neg_mean_squared_error'], cv=10)\n",
        "print(cv_results['test_neg_root_mean_squared_error'].mean())\n",
        "print(cv_results['test_neg_mean_squared_error'].mean())\n",
        "#results.append(cv_results['test_score'])\n",
        "#names.append('DT')"
      ],
      "metadata": {
        "colab": {
          "base_uri": "https://localhost:8080/"
        },
        "id": "f-Hu1QeowZyw",
        "outputId": "8e2799d1-ad73-4d23-adac-79889effb77b"
      },
      "execution_count": null,
      "outputs": [
        {
          "output_type": "stream",
          "name": "stdout",
          "text": [
            "-506.93498400039516\n",
            "-258556.895422936\n"
          ]
        }
      ]
    },
    {
      "cell_type": "code",
      "source": [
        "print(cv_results['test_neg_root_mean_squared_error'])\n",
        "print(cv_results['test_neg_mean_squared_error'])"
      ],
      "metadata": {
        "colab": {
          "base_uri": "https://localhost:8080/"
        },
        "id": "shS3VYHL-naz",
        "outputId": "98f92d00-4778-47b0-9c20-af850dfcdecb"
      },
      "execution_count": null,
      "outputs": [
        {
          "output_type": "stream",
          "name": "stdout",
          "text": [
            "[-508.22627705 -517.3029808  -462.30512437 -522.21229459 -516.62664964]\n",
            "[-258293.94868366 -267602.3739454  -213726.02801467 -272705.6806192\n",
            " -266903.09512011]\n"
          ]
        }
      ]
    },
    {
      "cell_type": "code",
      "source": [
        "lr.fit(X_train, y_train)\n",
        "lr_res = lr.predict(X_test)\n",
        "lr_testing_rmse = mean_squared_error(lr_res, y_test, squared=False)\n",
        "lr_testing_mse = mean_squared_error(lr_res, y_test, squared=True)\n",
        "print(lr_testing_rmse)\n",
        "print(lr_testing_mse)\n",
        "#testing.append(lr_testing)"
      ],
      "metadata": {
        "colab": {
          "base_uri": "https://localhost:8080/"
        },
        "id": "XbphRjugxXNU",
        "outputId": "af2cfb78-7d71-4f6a-962f-2d4bd2cf636f"
      },
      "execution_count": null,
      "outputs": [
        {
          "output_type": "stream",
          "name": "stdout",
          "text": [
            "1674475000373079.5\n",
            "2.8038665268744244e+30\n"
          ]
        }
      ]
    },
    {
      "cell_type": "markdown",
      "source": [
        "**SGD**"
      ],
      "metadata": {
        "id": "sDJdcflTHbYG"
      }
    },
    {
      "cell_type": "code",
      "source": [
        "sgd = SGDRegressor()\n",
        "\n",
        "cv_results = cross_validate(sgd, X_train, y_train, scoring=['neg_root_mean_squared_error', 'neg_mean_squared_error'], cv=10)\n",
        "print(cv_results['test_neg_root_mean_squared_error'].mean())\n",
        "print(cv_results['test_neg_mean_squared_error'].mean())\n",
        "#results.append(cv_results['test_score'])\n",
        "#names.append('DT')"
      ],
      "metadata": {
        "colab": {
          "base_uri": "https://localhost:8080/"
        },
        "id": "BztlkNv2Hd6U",
        "outputId": "02518ed2-a1c4-411f-f7d3-ad0914e8c9f9"
      },
      "execution_count": null,
      "outputs": [
        {
          "output_type": "stream",
          "name": "stdout",
          "text": [
            "-505.40169110891173\n",
            "-256992.084836854\n"
          ]
        }
      ]
    },
    {
      "cell_type": "code",
      "source": [
        "print(cv_results['test_neg_root_mean_squared_error'])\n",
        "print(cv_results['test_neg_mean_squared_error'])"
      ],
      "metadata": {
        "colab": {
          "base_uri": "https://localhost:8080/"
        },
        "id": "1WuF-e8QHlFe",
        "outputId": "399aa1e5-e208-42ec-97a9-d6b03e83fbfe"
      },
      "execution_count": null,
      "outputs": [
        {
          "output_type": "stream",
          "name": "stdout",
          "text": [
            "[-518.01385009 -509.65302671 -581.53558293 -458.02739    -486.20884128\n",
            " -429.94572555 -538.31904083 -502.16526436 -510.01371236 -520.13447698]\n",
            "[-268338.3488806  -259746.20763644 -338183.63421466 -209789.08999211\n",
            " -236399.03733635 -184853.32691783 -289787.38971586 -252169.95273427\n",
            " -260113.98679609 -270539.87414434]\n"
          ]
        }
      ]
    },
    {
      "cell_type": "code",
      "source": [
        "sgd.fit(X_train, y_train)\n",
        "sgd_res = sgd.predict(X_test)\n",
        "sgd_testing_rmse = mean_squared_error(sgd_res, y_test, squared=False)\n",
        "sgd_testing_mse = mean_squared_error(sgd_res, y_test, squared=True)\n",
        "print(sgd_testing_rmse)\n",
        "print(sgd_testing_mse)\n",
        "#testing.append(lr_testing)"
      ],
      "metadata": {
        "colab": {
          "base_uri": "https://localhost:8080/"
        },
        "id": "XetAH3QzHtw7",
        "outputId": "569aafce-4afa-424d-82e8-68e18d655203"
      },
      "execution_count": null,
      "outputs": [
        {
          "output_type": "stream",
          "name": "stdout",
          "text": [
            "509.895720744063\n",
            "259993.64603310745\n"
          ]
        }
      ]
    },
    {
      "cell_type": "markdown",
      "source": [
        "**ADABOOST**"
      ],
      "metadata": {
        "id": "xBsP1LqAINOe"
      }
    },
    {
      "cell_type": "code",
      "source": [
        "adb = AdaBoostRegressor(n_estimators=100, base_estimator = GradientBoostingRegressor(n_estimators = 500, subsample = 0.6, random_state = 0), random_state=0)\n",
        "\n",
        "cv_results = cross_validate(adb, X_train, y_train, scoring=['neg_root_mean_squared_error', 'neg_mean_squared_error'], cv=10)\n",
        "print(cv_results['test_neg_root_mean_squared_error'].mean())\n",
        "print(cv_results['test_neg_mean_squared_error'].mean())\n",
        "#results.append(cv_results['test_score'])\n",
        "#names.append('DT')"
      ],
      "metadata": {
        "colab": {
          "base_uri": "https://localhost:8080/"
        },
        "id": "9Taqvl2QIQBX",
        "outputId": "00874c34-805a-41a0-cb58-e8829df50f5e"
      },
      "execution_count": null,
      "outputs": [
        {
          "output_type": "stream",
          "name": "stdout",
          "text": [
            "-428.7446718972721\n",
            "-185035.22813652415\n"
          ]
        }
      ]
    },
    {
      "cell_type": "code",
      "source": [
        "print(cv_results['test_neg_root_mean_squared_error'])\n",
        "print(cv_results['test_neg_mean_squared_error'])"
      ],
      "metadata": {
        "colab": {
          "base_uri": "https://localhost:8080/"
        },
        "id": "C5RzwJM-IWQi",
        "outputId": "41d90ede-b99d-4921-e538-e6d2374d94f8"
      },
      "execution_count": null,
      "outputs": [
        {
          "output_type": "stream",
          "name": "stdout",
          "text": [
            "[-455.58731646 -406.5502985  -456.6737127  -415.70310177 -409.08532955\n",
            " -352.13400254 -483.19719477 -447.71759381 -444.2357267  -416.56244218]\n",
            "[-207559.80292375 -165283.14520804 -208550.87986806 -172809.06882289\n",
            " -167350.80685241 -123998.3557472  -233479.52903227 -200451.04380394\n",
            " -197345.38087286 -173524.26823382]\n"
          ]
        }
      ]
    },
    {
      "cell_type": "code",
      "source": [
        "adb.fit(X_train, y_train)\n",
        "adb_res = adb.predict(X_test)\n",
        "adb_testing_rmse = mean_squared_error(adb_res, y_test, squared=False)\n",
        "adb_testing_mse = mean_squared_error(adb_res, y_test, squared=True)\n",
        "print(adb_testing_rmse)\n",
        "print(adb_testing_mse)\n",
        "#testing.append(lr_testing)"
      ],
      "metadata": {
        "colab": {
          "base_uri": "https://localhost:8080/"
        },
        "id": "_tlC7UZkI5R-",
        "outputId": "5583d6f6-8b83-4572-fffd-5996fccff247"
      },
      "execution_count": null,
      "outputs": [
        {
          "output_type": "stream",
          "name": "stdout",
          "text": [
            "420.24426842318445\n",
            "176605.24514253752\n"
          ]
        }
      ]
    },
    {
      "cell_type": "markdown",
      "source": [
        "**MLP**"
      ],
      "metadata": {
        "id": "KF4ROogQyDPf"
      }
    },
    {
      "cell_type": "code",
      "source": [
        "mlp = MLPRegressor(max_iter = 5000, hidden_layer_sizes=(60,120,120,60,30), solver='lbfgs', alpha=0.75, random_state=0)\n",
        "\n",
        "cv_results = cross_validate(mlp, X_train, y_train, scoring=['r2', 'neg_mean_squared_error'], cv=10)\n",
        "print(\"MSE\", cv_results['test_neg_mean_squared_error'].mean())\n",
        "print(\"R2\", cv_results['test_r2'].mean())\n",
        "#results.append(cv_results['test_score'])\n",
        "#names.append('MLP')\n",
        "#MSE -2816.863770453625\n",
        "#R2 0.997568859496638"
      ],
      "metadata": {
        "id": "SJ29qjT3xrRI"
      },
      "execution_count": null,
      "outputs": []
    },
    {
      "cell_type": "code",
      "source": [
        "print(\"MSE\", cv_results['test_neg_mean_squared_error'])\n",
        "print(\"R2\", cv_results['test_r2'])\n",
        "#MSE [-1450.45159792 -2035.03274576 -2630.47819955 -4571.67275942\n",
        "# -4212.38273133 -2932.43785576 -3341.06100291 -2826.1061419\n",
        "# -2320.00551234 -1686.57085587]\n",
        "#R2 [0.99895997 0.99804791 0.99741943 0.99672696 0.99651369 0.99673755\n",
        "# 0.997764   0.99785467 0.99779528 0.99800384]"
      ],
      "metadata": {
        "colab": {
          "base_uri": "https://localhost:8080/"
        },
        "id": "0qsk6EChCFKz",
        "outputId": "4385adac-a55c-4466-a5ed-b9ffb357ec48"
      },
      "execution_count": null,
      "outputs": [
        {
          "output_type": "stream",
          "name": "stdout",
          "text": [
            "MSE [-1450.45159792 -2035.03274576 -2630.47819955 -4571.67275942\n",
            " -4212.38273133 -2932.43785576 -3341.06100291 -2826.1061419\n",
            " -2320.00551234 -1686.57085587]\n",
            "R2 [0.99895997 0.99804791 0.99741943 0.99672696 0.99651369 0.99673755\n",
            " 0.997764   0.99785467 0.99779528 0.99800384]\n"
          ]
        }
      ]
    },
    {
      "cell_type": "code",
      "source": [
        "mlp = MLPRegressor(max_iter = 5000, hidden_layer_sizes=(60,120,120,60,30), solver='lbfgs', alpha=0.75, random_state=0)\n",
        "\n",
        "mlp.fit(X_train, y_train)\n",
        "mlp_res = mlp.predict(X_test)\n",
        "mlp_testing_r2 = r2_score(mlp_res, y_test)\n",
        "mlp_testing_r2\n",
        "#testing.append(mlp_testing)\n",
        "#0.990743234357331\n"
      ],
      "metadata": {
        "colab": {
          "base_uri": "https://localhost:8080/"
        },
        "id": "1dsohrPc17iG",
        "outputId": "a86a14c2-e290-4b76-cf39-859d8f4eae2e"
      },
      "execution_count": null,
      "outputs": [
        {
          "output_type": "stream",
          "name": "stderr",
          "text": [
            "/usr/local/lib/python3.7/dist-packages/sklearn/neural_network/_multilayer_perceptron.py:549: ConvergenceWarning: lbfgs failed to converge (status=1):\n",
            "STOP: TOTAL NO. of ITERATIONS REACHED LIMIT.\n",
            "\n",
            "Increase the number of iterations (max_iter) or scale the data as shown in:\n",
            "    https://scikit-learn.org/stable/modules/preprocessing.html\n",
            "  self.n_iter_ = _check_optimize_result(\"lbfgs\", opt_res, self.max_iter)\n"
          ]
        },
        {
          "output_type": "execute_result",
          "data": {
            "text/plain": [
              "0.990743234357331"
            ]
          },
          "metadata": {},
          "execution_count": 116
        }
      ]
    },
    {
      "cell_type": "code",
      "source": [
        "mlp_testing_mse = mean_squared_error(mlp_res, y_test, squared=True)\n",
        "mlp_testing_mse\n",
        "#10977.18549070397\n"
      ],
      "metadata": {
        "colab": {
          "base_uri": "https://localhost:8080/"
        },
        "id": "iY_IxOGFCqEp",
        "outputId": "4b88c2ed-5fe3-493d-c977-b1c4aa823963"
      },
      "execution_count": null,
      "outputs": [
        {
          "output_type": "execute_result",
          "data": {
            "text/plain": [
              "10977.18549070397"
            ]
          },
          "metadata": {},
          "execution_count": 117
        }
      ]
    },
    {
      "cell_type": "code",
      "source": [
        "predictions = mlp.predict(X_holdout)\n",
        "df_test['Target'] = predictions.astype(float)\n",
        "df_test['Target']"
      ],
      "metadata": {
        "colab": {
          "base_uri": "https://localhost:8080/"
        },
        "id": "584Gp6encSMy",
        "outputId": "92dbbbb7-3b5a-49b3-f746-727e2520fe5a"
      },
      "execution_count": null,
      "outputs": [
        {
          "output_type": "execute_result",
          "data": {
            "text/plain": [
              "0        369.010011\n",
              "1         -0.267030\n",
              "2       2419.514388\n",
              "3        381.815941\n",
              "4          1.725393\n",
              "           ...     \n",
              "1495     557.235925\n",
              "1496     257.572436\n",
              "1497     572.938840\n",
              "1498    2482.617207\n",
              "1499     154.496769\n",
              "Name: Target, Length: 1500, dtype: float64"
            ]
          },
          "metadata": {},
          "execution_count": 118
        }
      ]
    },
    {
      "cell_type": "code",
      "source": [
        "df_test.to_csv(\"CE802_P2_Test.csv\", index = False)"
      ],
      "metadata": {
        "id": "L347pPlccaCU"
      },
      "execution_count": null,
      "outputs": []
    }
  ]
}